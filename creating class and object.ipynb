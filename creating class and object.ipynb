{
 "cells": [
  {
   "cell_type": "code",
   "execution_count": 1,
   "metadata": {},
   "outputs": [],
   "source": [
    "class Student:\n",
    "    pass"
   ]
  },
  {
   "cell_type": "code",
   "execution_count": 2,
   "metadata": {},
   "outputs": [],
   "source": [
    "s1=Student()\n"
   ]
  },
  {
   "cell_type": "code",
   "execution_count": 6,
   "metadata": {},
   "outputs": [
    {
     "name": "stdout",
     "output_type": "stream",
     "text": [
      "<__main__.Student object at 0x05FD83E8> <__main__.Student object at 0x05FD8AF0>\n"
     ]
    }
   ],
   "source": [
    "s2=Student()\n",
    "s3=Student()\n",
    "print(s2,s3)"
   ]
  },
  {
   "cell_type": "code",
   "execution_count": 7,
   "metadata": {},
   "outputs": [],
   "source": [
    "s1.name=\"nitesh\""
   ]
  },
  {
   "cell_type": "code",
   "execution_count": 8,
   "metadata": {},
   "outputs": [],
   "source": [
    "s2.rollnumber=21"
   ]
  },
  {
   "cell_type": "code",
   "execution_count": 9,
   "metadata": {},
   "outputs": [],
   "source": [
    "s3.name=\"yadav\"\n",
    "s3.rollnumber=22"
   ]
  },
  {
   "cell_type": "code",
   "execution_count": 10,
   "metadata": {},
   "outputs": [
    {
     "data": {
      "text/plain": [
       "'yadav'"
      ]
     },
     "execution_count": 10,
     "metadata": {},
     "output_type": "execute_result"
    }
   ],
   "source": [
    "s3.name"
   ]
  },
  {
   "cell_type": "code",
   "execution_count": 11,
   "metadata": {},
   "outputs": [
    {
     "data": {
      "text/plain": [
       "{'name': 'nitesh'}"
      ]
     },
     "execution_count": 11,
     "metadata": {},
     "output_type": "execute_result"
    }
   ],
   "source": [
    "s1.__dict__"
   ]
  },
  {
   "cell_type": "code",
   "execution_count": 12,
   "metadata": {},
   "outputs": [
    {
     "data": {
      "text/plain": [
       "{'rollnumber': 21}"
      ]
     },
     "execution_count": 12,
     "metadata": {},
     "output_type": "execute_result"
    }
   ],
   "source": [
    "s2.__dict__"
   ]
  },
  {
   "cell_type": "code",
   "execution_count": 14,
   "metadata": {},
   "outputs": [
    {
     "data": {
      "text/plain": [
       "True"
      ]
     },
     "execution_count": 14,
     "metadata": {},
     "output_type": "execute_result"
    }
   ],
   "source": [
    "hasattr(s1,\"name\")"
   ]
  },
  {
   "cell_type": "code",
   "execution_count": 17,
   "metadata": {},
   "outputs": [
    {
     "data": {
      "text/plain": [
       "''"
      ]
     },
     "execution_count": 17,
     "metadata": {},
     "output_type": "execute_result"
    }
   ],
   "source": [
    "getattr(s2,\"name\",\"\")"
   ]
  },
  {
   "cell_type": "code",
   "execution_count": 18,
   "metadata": {},
   "outputs": [],
   "source": [
    "delattr(s1,\"name\")"
   ]
  },
  {
   "cell_type": "code",
   "execution_count": 19,
   "metadata": {},
   "outputs": [
    {
     "data": {
      "text/plain": [
       "{}"
      ]
     },
     "execution_count": 19,
     "metadata": {},
     "output_type": "execute_result"
    }
   ],
   "source": [
    "s1.__dict__"
   ]
  },
  {
   "cell_type": "code",
   "execution_count": null,
   "metadata": {},
   "outputs": [],
   "source": []
  },
  {
   "cell_type": "code",
   "execution_count": 20,
   "metadata": {},
   "outputs": [
    {
     "name": "stdout",
     "output_type": "stream",
     "text": [
      "Rohan Rohan "
     ]
    }
   ],
   "source": [
    "class Student:\n",
    "     name = \"Rohan\"\n",
    "     age = 16\n",
    "s1 = Student()\n",
    "s2 = Student()\n",
    "print(s1.name,end=\" \")\n",
    "print(s2.name,end=\" \")\n"
   ]
  },
  {
   "cell_type": "code",
   "execution_count": 21,
   "metadata": {},
   "outputs": [
    {
     "name": "stdout",
     "output_type": "stream",
     "text": [
      "58\n"
     ]
    }
   ],
   "source": [
    "class Student:\n",
    "    pp = 50\n",
    "\n",
    "s1 = Student()\n",
    "s1.pp= 58\n",
    "s2 = Student()\n",
    "s2.pp = 60\n",
    "print(s1.pp)\n"
   ]
  },
  {
   "cell_type": "code",
   "execution_count": 26,
   "metadata": {},
   "outputs": [
    {
     "name": "stdout",
     "output_type": "stream",
     "text": [
      "name= nitesh\n",
      "percentage= 80\n",
      "name= nitesh\n",
      "percentage= 80\n",
      "student is passed\n"
     ]
    }
   ],
   "source": [
    "class student:\n",
    "    passingpercentage=36\n",
    "    def studentdetails(self):\n",
    "        self.name=\"nitesh\"\n",
    "        print(\"name=\",self.name)\n",
    "        self.percentage=80\n",
    "        print(\"percentage=\",self.percentage)\n",
    "        pass\n",
    "    def ispassed(self):\n",
    "        if self.percentage>student.passingpercentage:\n",
    "            print(\"student is passed\")\n",
    "        else:\n",
    "            print(\"student is not passed\")\n",
    "s1=student()\n",
    "s1.studentdetails()\n",
    "student.studentdetails(s1)\n",
    "s1.ispassed()\n",
    "#class_name.function(object_name)\n",
    "\n"
   ]
  },
  {
   "cell_type": "code",
   "execution_count": 30,
   "metadata": {},
   "outputs": [
    {
     "name": "stdout",
     "output_type": "stream",
     "text": [
      "name= nitesh\n",
      "percentage= 80\n",
      "name= nitesh\n",
      "percentage= 80\n",
      "student is passed\n",
      "hey welcome\n"
     ]
    }
   ],
   "source": [
    "class student:\n",
    "    passingpercentage=36\n",
    "    def studentdetails(self):\n",
    "        self.name=\"nitesh\"\n",
    "        print(\"name=\",self.name)\n",
    "        self.percentage=80\n",
    "        print(\"percentage=\",self.percentage)\n",
    "        pass\n",
    "    def ispassed(self):\n",
    "        if self.percentage>student.passingpercentage:\n",
    "            print(\"student is passed\")\n",
    "        else:\n",
    "            print(\"student is not passed\")\n",
    "    @staticmethod\n",
    "    def welcometoschool():\n",
    "            print(\"hey welcome\")\n",
    "s1=student()\n",
    "s1.studentdetails()\n",
    "student.studentdetails(s1)\n",
    "s1.ispassed()\n",
    "s1.welcometoschool()"
   ]
  },
  {
   "cell_type": "markdown",
   "metadata": {},
   "source": [
    "init method"
   ]
  },
  {
   "cell_type": "code",
   "execution_count": 38,
   "metadata": {},
   "outputs": [],
   "source": [
    "class student:\n",
    "    def __init__(self,name,rollnumber):\n",
    "        self.name=name\n",
    "        self.rollnumber=rollnumber\n",
    "        \n",
    "        "
   ]
  },
  {
   "cell_type": "code",
   "execution_count": 39,
   "metadata": {},
   "outputs": [],
   "source": [
    "s1=student(\"nitesh\",21)\n",
    "s2=student(\"yadav\",22)"
   ]
  },
  {
   "cell_type": "code",
   "execution_count": 37,
   "metadata": {},
   "outputs": [
    {
     "data": {
      "text/plain": [
       "{'name': 'nitesh', 'rollnumber': 21}"
      ]
     },
     "execution_count": 37,
     "metadata": {},
     "output_type": "execute_result"
    }
   ],
   "source": [
    "s1.__dict__"
   ]
  },
  {
   "cell_type": "code",
   "execution_count": 40,
   "metadata": {},
   "outputs": [
    {
     "data": {
      "text/plain": [
       "{'name': 'yadav', 'rollnumber': 22}"
      ]
     },
     "execution_count": 40,
     "metadata": {},
     "output_type": "execute_result"
    }
   ],
   "source": [
    "s2.__dict__"
   ]
  },
  {
   "cell_type": "markdown",
   "metadata": {},
   "source": [
    "class method"
   ]
  },
  {
   "cell_type": "code",
   "execution_count": 74,
   "metadata": {},
   "outputs": [
    {
     "name": "stdout",
     "output_type": "stream",
     "text": [
      "name= nitesh\n",
      "age= 19\n",
      "percentage= 76\n"
     ]
    }
   ],
   "source": [
    "\n",
    "from datetime import date\n",
    "class student:\n",
    "    passingpercentage=36\n",
    "    def __init__(self,name,age=15,percentage=80):\n",
    "        self.name=name\n",
    "        self.age=age\n",
    "        self.percentage=percentage\n",
    "    @classmethod\n",
    "    def frombirthyear(cls,name,year,percentage):\n",
    "        return cls(name,date.today().year-year,percentage)\n",
    "    \n",
    "    def studentdetails(self):\n",
    "        self.name=\"nitesh\"\n",
    "        print(\"name=\",self.name)\n",
    "        print(\"age=\",self.age)\n",
    "        print(\"percentage=\",self.percentage)\n",
    "        pass\n",
    "    def ispassed(self):\n",
    "        if self.percentage>student.passingpercentage:\n",
    "            print(\"student is passed\")\n",
    "        else:\n",
    "            print(\"student is not passed\")\n",
    "            \n",
    "    \n",
    "    @staticmethod\n",
    "    def welcometoschool():\n",
    "            print(\"hey welcome\")\n",
    "    @staticmethod\n",
    "    def isteen(age):\n",
    "        return age>16\n",
    "s1=student(\"nitesh\")\n",
    "s1=student.frombirthyear(\"nitesh\",2001,76)\n",
    "s1.studentdetails()\n",
    "#student.studentdetails(s1)\n",
    "#s1.ispassed()\n",
    "#s1.welcometoschool()"
   ]
  },
  {
   "cell_type": "code",
   "execution_count": 56,
   "metadata": {},
   "outputs": [
    {
     "name": "stdout",
     "output_type": "stream",
     "text": [
      "yadav\n",
      "nitesh\n"
     ]
    }
   ],
   "source": [
    "class student:\n",
    "    passingpercentage=36\n",
    "    def __init__(self,name,age=15,percentage=80):\n",
    "        self.__name=name\n",
    "        self.age=age\n",
    "        self.percentage=percentage\n",
    "        \n",
    "    def studentdetails(self):\n",
    "        self.name=\"nitesh\"\n",
    "        print(\"name=\",self.name)\n",
    "        print(\"age=\",self.age)\n",
    "        print(\"percentage=\",self.percentage)\n",
    "        pass\n",
    "    def ispassed(self):\n",
    "        if self.percentage>student.passingpercentage:\n",
    "            print(\"student is passed\")\n",
    "        else:\n",
    "            print(\"student is not passed\")\n",
    "            \n",
    "    \n",
    "    @staticmethod\n",
    "    def welcometoschool():\n",
    "            print(\"hey welcome\")\n",
    "            \n",
    "s1=student(\"nitesh\")\n",
    "s1.name=\"yadav\"\n",
    "print(s1.name)\n",
    "print(s1._student__name)#access for private\n",
    "#s1.studentdetails()\n",
    "#student.studentdetails(s1)\n",
    "#s1.ispassed()\n",
    "#s1.welcometoschool()"
   ]
  },
  {
   "cell_type": "markdown",
   "metadata": {},
   "source": [
    "inheritence"
   ]
  },
  {
   "cell_type": "code",
   "execution_count": 91,
   "metadata": {},
   "outputs": [
    {
     "name": "stdout",
     "output_type": "stream",
     "text": [
      "color= red\n",
      "maxspeed= 15\n",
      "numgear= 3\n",
      "isconvertible= False\n"
     ]
    }
   ],
   "source": [
    "class vehicle:\n",
    "    def __init__(self,color,maxspeed):\n",
    "        self.color=color\n",
    "        self.maxspeed=maxspeed\n",
    "        \n",
    "class car(vehicle):\n",
    "    def __init__(self,color,maxspeed,numgear,isconvertible):\n",
    "        super().__init__(color,maxspeed)\n",
    "        self.numgear=numgear\n",
    "        self.isconvertible=isconvertible\n",
    "    def printcar(self):\n",
    "        print(\"color=\",self.color)\n",
    "        print(\"maxspeed=\",self.maxspeed)\n",
    "        print(\"numgear=\",self.numgear)\n",
    "        print(\"isconvertible=\",self.isconvertible)\n",
    "c=car(\"red\",15,3,False)\n",
    "c.printcar()\n",
    "        \n",
    "        "
   ]
  },
  {
   "cell_type": "code",
   "execution_count": 108,
   "metadata": {},
   "outputs": [
    {
     "name": "stdout",
     "output_type": "stream",
     "text": [
      "color: red\n",
      "maxspeed: 15\n",
      "numgear: 3\n",
      "isconvertible: False\n",
      "color: red\n",
      "maxspeed: 13\n"
     ]
    }
   ],
   "source": [
    "class vehicle:\n",
    "    def __init__(self,color,maxspeed):\n",
    "        self.color=color\n",
    "        self.__maxspeed=maxspeed\n",
    "        \n",
    "    def getmaxspeed(self):\n",
    "        return self.__maxspeed\n",
    "    \n",
    "    def setmaxspeed(self,maxspeed):\n",
    "        self.__maxspeed=maxspeed\n",
    "    def print(self):\n",
    "        print(\"color:\",self.color)\n",
    "        print(\"maxspeed:\",self.__maxspeed)\n",
    "        \n",
    "class car(vehicle):\n",
    "    def __init__(self,color,maxspeed,numgear,isconvertible):\n",
    "        super().__init__(color,maxspeed)\n",
    "        self.numgear=numgear\n",
    "        self.isconvertible=isconvertible\n",
    "    def printcar(self):\n",
    "        self.print()\n",
    "        print(\"numgear:\",self.numgear)\n",
    "        print(\"isconvertible:\",self.isconvertible)\n",
    "c=car(\"red\",15,3,False)\n",
    "c.printcar()\n",
    "v=vehicle(\"red\",13)\n",
    "v.print()\n",
    "        "
   ]
  },
  {
   "cell_type": "markdown",
   "metadata": {},
   "source": [
    "object class"
   ]
  },
  {
   "cell_type": "code",
   "execution_count": 114,
   "metadata": {},
   "outputs": [
    {
     "name": "stdout",
     "output_type": "stream",
     "text": [
      "this is a circle class. \n"
     ]
    }
   ],
   "source": [
    "class circle(object):\n",
    "    def __init__(self,radius):\n",
    "        self.__radius=radius\n",
    "    def __str__(self):\n",
    "        return \"this is a circle class. \"\n",
    "c=circle(3)\n",
    "print(c)"
   ]
  },
  {
   "cell_type": "markdown",
   "metadata": {},
   "source": [
    "multiple inheritence"
   ]
  },
  {
   "cell_type": "code",
   "execution_count": 121,
   "metadata": {},
   "outputs": [
    {
     "name": "stdout",
     "output_type": "stream",
     "text": [
      "print of father called\n",
      "[<class '__main__.child'>, <class '__main__.father'>, <class '__main__.mother'>, <class 'object'>]\n"
     ]
    }
   ],
   "source": [
    "class mother:\n",
    "    def print(self):\n",
    "        print(\"print of mother called\")\n",
    "class father:\n",
    "    def print(self):\n",
    "        print(\"print of father called\")\n",
    "class child(father,mother):\n",
    "    def __init__(self,name):\n",
    "        self.name=name\n",
    "    def printchild(self):\n",
    "             print(\"name of the child,self.name\")\n",
    "c=child(\"nitesh\")\n",
    "c.print()"
   ]
  },
  {
   "cell_type": "markdown",
   "metadata": {},
   "source": [
    "method resolution order"
   ]
  },
  {
   "cell_type": "code",
   "execution_count": 130,
   "metadata": {},
   "outputs": [
    {
     "name": "stdout",
     "output_type": "stream",
     "text": [
      "print of father called\n",
      "[<class '__main__.child'>, <class '__main__.father'>, <class '__main__.mother'>, <class 'object'>]\n"
     ]
    }
   ],
   "source": [
    "class mother:\n",
    "    def print(self):\n",
    "        print(\"print of mother called\")\n",
    "class father:\n",
    "    def print(self):\n",
    "        print(\"print of father called\")\n",
    "class child(father,mother):\n",
    "    def __init__(self,name):\n",
    "        self.name=name\n",
    "    def printchild(self):\n",
    "             print(\"name of the child,self.name\")\n",
    "c=child(\"nitesh\")\n",
    "c.print()\n",
    "print(child.mro())"
   ]
  },
  {
   "cell_type": "markdown",
   "metadata": {},
   "source": [
    "operator overloading"
   ]
  },
  {
   "cell_type": "code",
   "execution_count": 131,
   "metadata": {},
   "outputs": [
    {
     "name": "stdout",
     "output_type": "stream",
     "text": [
      "this point at (4,6)\n",
      "False\n"
     ]
    }
   ],
   "source": [
    "import math\n",
    "class point:\n",
    "    def __init__(self,x,y):\n",
    "        self.__x=x\n",
    "        self.__y=y\n",
    "        \n",
    "    def __str__(self):\n",
    "        return \"this point at (\"+str(self.__x)+\",\"+str(self.__y)+\")\"\n",
    "    def __add__(self,point_object):\n",
    "        return point(self.__x+point_object.__x,self.__y+ point_object.__y)\n",
    "    def __lt__(self,point_object):\n",
    "        return math.sqrt(self.__x**2 + self.__y**2) < math.sqrt(point_object.__x**2 + point_object.__y**2)\n",
    "p1=point(1,2)\n",
    "\n",
    "p2=point(3,4)\n",
    "p3=p1+p2\n",
    "print(p3)\n",
    "print(p1<p1)\n"
   ]
  },
  {
   "cell_type": "markdown",
   "metadata": {},
   "source": [
    "abstract class"
   ]
  },
  {
   "cell_type": "code",
   "execution_count": 133,
   "metadata": {},
   "outputs": [
    {
     "name": "stdout",
     "output_type": "stream",
     "text": [
      "fd\n"
     ]
    },
    {
     "ename": "ValueError",
     "evalue": "invalid literal for int() with base 10: 'fd'",
     "output_type": "error",
     "traceback": [
      "\u001b[1;31m---------------------------------------------------------------------------\u001b[0m",
      "\u001b[1;31mValueError\u001b[0m                                Traceback (most recent call last)",
      "\u001b[1;32m<ipython-input-133-1d06e3f6a6b7>\u001b[0m in \u001b[0;36m<module>\u001b[1;34m\u001b[0m\n\u001b[0;32m      5\u001b[0m           \u001b[1;32mreturn\u001b[0m \u001b[0mint\u001b[0m\u001b[1;33m(\u001b[0m\u001b[0mn\u001b[0m\u001b[1;33m)\u001b[0m\u001b[1;33m\u001b[0m\u001b[1;33m\u001b[0m\u001b[0m\n\u001b[0;32m      6\u001b[0m           \u001b[1;32mreturn\u001b[0m \u001b[1;33m(\u001b[0m\u001b[0mn\u001b[0m\u001b[1;33m%\u001b[0m\u001b[1;36m10\u001b[0m\u001b[1;33m)\u001b[0m\u001b[1;33m\u001b[0m\u001b[1;33m\u001b[0m\u001b[0m\n\u001b[1;32m----> 7\u001b[1;33m \u001b[0mn\u001b[0m\u001b[1;33m=\u001b[0m\u001b[0mint\u001b[0m\u001b[1;33m(\u001b[0m\u001b[0minput\u001b[0m\u001b[1;33m(\u001b[0m\u001b[1;33m)\u001b[0m\u001b[1;33m)\u001b[0m\u001b[1;33m\u001b[0m\u001b[1;33m\u001b[0m\u001b[0m\n\u001b[0m\u001b[0;32m      8\u001b[0m \u001b[0mprint\u001b[0m\u001b[1;33m(\u001b[0m\u001b[0mLastDigit\u001b[0m\u001b[1;33m(\u001b[0m\u001b[0mn\u001b[0m\u001b[1;33m)\u001b[0m\u001b[1;33m,\u001b[0m\u001b[0mend\u001b[0m\u001b[1;33m=\u001b[0m\u001b[1;34m\" \"\u001b[0m\u001b[1;33m)\u001b[0m\u001b[1;33m\u001b[0m\u001b[1;33m\u001b[0m\u001b[0m\n",
      "\u001b[1;31mValueError\u001b[0m: invalid literal for int() with base 10: 'fd'"
     ]
    }
   ],
   "source": [
    "def LastDigit(n):\n",
    "    \n",
    "    while n>=10:\n",
    "          n=n/10\n",
    "          return int(n)\n",
    "          return (n%10)\n",
    "n=int(input())\n",
    "print(LastDigit(n),end=\" \")"
   ]
  },
  {
   "cell_type": "code",
   "execution_count": 136,
   "metadata": {},
   "outputs": [
    {
     "name": "stdout",
     "output_type": "stream",
     "text": [
      "1234\n",
      "4\n"
     ]
    }
   ],
   "source": [
    "def LastDigit(N):\n",
    "  # Enter your code here\n",
    "  return N%10\n",
    "N=int(input())\n",
    "last_digit=LastDigit(N)\n",
    "print(last_digit)"
   ]
  },
  {
   "cell_type": "code",
   "execution_count": null,
   "metadata": {},
   "outputs": [],
   "source": []
  }
 ],
 "metadata": {
  "kernelspec": {
   "display_name": "Python 3",
   "language": "python",
   "name": "python3"
  },
  "language_info": {
   "codemirror_mode": {
    "name": "ipython",
    "version": 3
   },
   "file_extension": ".py",
   "mimetype": "text/x-python",
   "name": "python",
   "nbconvert_exporter": "python",
   "pygments_lexer": "ipython3",
   "version": "3.8.5"
  }
 },
 "nbformat": 4,
 "nbformat_minor": 4
}
